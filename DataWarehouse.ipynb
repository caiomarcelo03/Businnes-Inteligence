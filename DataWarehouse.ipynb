{
  "nbformat": 4,
  "nbformat_minor": 0,
  "metadata": {
    "colab": {
      "provenance": [],
      "authorship_tag": "ABX9TyO6BUzEzj6Kza8NOeLWAXJd",
      "include_colab_link": true
    },
    "kernelspec": {
      "name": "python3",
      "display_name": "Python 3"
    },
    "language_info": {
      "name": "python"
    }
  },
  "cells": [
    {
      "cell_type": "markdown",
      "metadata": {
        "id": "view-in-github",
        "colab_type": "text"
      },
      "source": [
        "<a href=\"https://colab.research.google.com/github/caiomarcelo03/Businnes-Inteligence/blob/main/DataWarehouse.ipynb\" target=\"_parent\"><img src=\"https://colab.research.google.com/assets/colab-badge.svg\" alt=\"Open In Colab\"/></a>"
      ]
    },
    {
      "cell_type": "code",
      "execution_count": 22,
      "metadata": {
        "colab": {
          "base_uri": "https://localhost:8080/"
        },
        "id": "0R1fOnxXJam_",
        "outputId": "cd3c2c73-361b-4af6-f641-09f0ed0a599e"
      },
      "outputs": [
        {
          "output_type": "stream",
          "name": "stdout",
          "text": [
            "Dados da Filial 1:\n",
            "   ID do Produto                   Nome do Produto  Quantidade Vendida  \\\n",
            "0            101                Laptop Dell XPS 13                  20   \n",
            "1            102     Smartphone Samsung Galaxy S20                  30   \n",
            "2            103          Monitor LG UltraWide 34\"                  15   \n",
            "3            104  Teclado Mecânico Corsair K95 RGB                  25   \n",
            "4            105        Mouse Logitech MX Master 3                  10   \n",
            "\n",
            "   Preço Unitário  \n",
            "0          1500.0  \n",
            "1          1000.0  \n",
            "2           600.0  \n",
            "3           200.0  \n",
            "4            80.0  \n",
            "\n",
            "Dados da Filial 2:\n",
            "   ID do Produto                    Nome do Produto  Quantidade Vendida  \\\n",
            "0            201         Impressora HP LaserJet Pro                  12   \n",
            "1            202                    SSD Samsung 1TB                  18   \n",
            "2            203              Tablet Apple iPad Pro                   8   \n",
            "3            204  Smartwatch Samsung Galaxy Watch 4                  14   \n",
            "4            205            Headset HyperX Cloud II                  20   \n",
            "\n",
            "   Preço Unitário  \n",
            "0           250.0  \n",
            "1           180.0  \n",
            "2           900.0  \n",
            "3           300.0  \n",
            "4           120.0  \n",
            "Dados Transformados da Filial 1:\n",
            "   ID do Produto                   Nome do Produto  Quantidade Vendida  \\\n",
            "0            101                Laptop Dell XPS 13                  20   \n",
            "1            102     Smartphone Samsung Galaxy S20                  30   \n",
            "2            103          Monitor LG UltraWide 34\"                  15   \n",
            "3            104  Teclado Mecânico Corsair K95 RGB                  25   \n",
            "4            105        Mouse Logitech MX Master 3                  10   \n",
            "\n",
            "   Preço Unitário  Valor Total  \n",
            "0          1500.0      30000.0  \n",
            "1          1000.0      30000.0  \n",
            "2           600.0       9000.0  \n",
            "3           200.0       5000.0  \n",
            "4            80.0        800.0  \n",
            "\n",
            "Dados Transformados da Filial 2:\n",
            "   ID do Produto                    Nome do Produto  Quantidade Vendida  \\\n",
            "0            201         Impressora HP LaserJet Pro                  12   \n",
            "1            202                    SSD Samsung 1TB                  18   \n",
            "2            203              Tablet Apple iPad Pro                   8   \n",
            "3            204  Smartwatch Samsung Galaxy Watch 4                  14   \n",
            "4            205            Headset HyperX Cloud II                  20   \n",
            "\n",
            "   Preço Unitário  valor Total  \n",
            "0           250.0       3000.0  \n",
            "1           180.0       3240.0  \n",
            "2           900.0       7200.0  \n",
            "3           300.0       4200.0  \n",
            "4           120.0       2400.0  \n",
            "Dados Transformados da Filial 1 (do arquivo CSV):\n",
            "   ID do Produto                   Nome do Produto  Quantidade Vendida  \\\n",
            "0            101                Laptop Dell XPS 13                  20   \n",
            "1            102     Smartphone Samsung Galaxy S20                  30   \n",
            "2            103          Monitor LG UltraWide 34\"                  15   \n",
            "3            104  Teclado Mecânico Corsair K95 RGB                  25   \n",
            "4            105        Mouse Logitech MX Master 3                  10   \n",
            "\n",
            "   Preço Unitário  Valor Total  \n",
            "0          1500.0      30000.0  \n",
            "1          1000.0      30000.0  \n",
            "2           600.0       9000.0  \n",
            "3           200.0       5000.0  \n",
            "4            80.0        800.0  \n",
            "\n",
            "Dados Transformados da Filial 2 (do arquivo CSV):\n",
            "   ID do Produto                    Nome do Produto  Quantidade Vendida  \\\n",
            "0            201         Impressora HP LaserJet Pro                  12   \n",
            "1            202                    SSD Samsung 1TB                  18   \n",
            "2            203              Tablet Apple iPad Pro                   8   \n",
            "3            204  Smartwatch Samsung Galaxy Watch 4                  14   \n",
            "4            205            Headset HyperX Cloud II                  20   \n",
            "\n",
            "   Preço Unitário  valor Total  \n",
            "0           250.0       3000.0  \n",
            "1           180.0       3240.0  \n",
            "2           900.0       7200.0  \n",
            "3           300.0       4200.0  \n",
            "4           120.0       2400.0  \n"
          ]
        }
      ],
      "source": [
        "# extração\n",
        "import pandas as pd\n",
        "\n",
        "# Extração dos dados da filial 1 (CSV)\n",
        "vendas_filial1 = pd.read_csv('vendas_filial1.csv')\n",
        "\n",
        "# Extração dos dados da filial 2 (Excel)\n",
        "vendas_filial2 = pd.read_excel('vendas_filial2.xlsx')\n",
        "\n",
        "# Transformações\n",
        "# Podemos fazer transformações adicionais aqui, se necessário\n",
        "\n",
        "#visualização dos dados\n",
        "print(\"Dados da Filial 1:\")\n",
        "print(vendas_filial1.head())\n",
        "print(\"\\nDados da Filial 2:\")\n",
        "print(vendas_filial2.head())\n",
        "\n",
        "# transformação dos dados: Calcular o valor total de vendas para cada filial\n",
        "vendas_filial1['Valor Total'] = vendas_filial1['Quantidade Vendida'] * vendas_filial1['Preço Unitário']\n",
        "vendas_filial2['valor Total'] = vendas_filial2['Quantidade Vendida'] * vendas_filial2['Preço Unitário']\n",
        "\n",
        "# Visualizar os dados transformados\n",
        "print(\"Dados Transformados da Filial 1:\")\n",
        "print(vendas_filial1.head())\n",
        "print(\"\\nDados Transformados da Filial 2:\")\n",
        "print(vendas_filial2.head())\n",
        "\n",
        "# Carregamento dos dados transformados para um arquivo CSV\n",
        "vendas_filial1.to_csv('vendas_filial1_transformadas.csv', index=False)\n",
        "vendas_filial2.to_csv('vendas_filial2_transformadas.csv', index=False)\n",
        "\n",
        "# Apresentar os dados carregados dos arquivos CSV\n",
        "dados_filial1 = pd.read_csv('vendas_filial1_transformadas.csv')\n",
        "dados_filial2 = pd.read_csv('vendas_filial2_transformadas.csv')\n",
        "\n",
        "print(\"Dados Transformados da Filial 1 (do arquivo CSV):\")\n",
        "print(dados_filial1.head())\n",
        "print(\"\\nDados Transformados da Filial 2 (do arquivo CSV):\")\n",
        "print(dados_filial2.head())\n",
        "\n"
      ]
    },
    {
      "cell_type": "code",
      "source": [
        "import sqlite3\n",
        "\n",
        "# Criar uma conexão com o banco de dados\n",
        "conn = sqlite3.connect('dados_transformados.db')\n",
        "\n",
        "# Carregar os dados transformados para tabelas SQL\n",
        "vendas_filial1.to_sql('vendas_filial1_transformadas', conn, index=False, if_exists='replace')\n",
        "vendas_filial2.to_sql('vendas_filial1_transformadas', conn, index=False, if_exists='replace')\n",
        "\n",
        "# Apresentar os dados carregados das tebalas SQL\n",
        "dados_filial1 = pd.read_sql('SELECT * FROM vendas_filial1_transformadas', conn)\n",
        "dados_filial2 = pd.read_sql('SELECT * FROM vendas_filial1_transformadas', conn)\n",
        "\n",
        "print(\"Dados Transformados da Filial 1 (do banco de dados SQL):\")\n",
        "print(dados_filial1.head())\n",
        "print(\"\\nDados Transformados da Filial 2 (do banco de dados SQL):\")\n",
        "print(dados_filial2.head())\n",
        "\n",
        "# Fechar a conexão com o banco de dados\n",
        "conn.close()"
      ],
      "metadata": {
        "colab": {
          "base_uri": "https://localhost:8080/"
        },
        "id": "ax1ult6qeDHM",
        "outputId": "ef0c836a-1882-4a3b-81e4-3149960bf5ad"
      },
      "execution_count": 27,
      "outputs": [
        {
          "output_type": "stream",
          "name": "stdout",
          "text": [
            "Dados Transformados da Filial 1 (do banco de dados SQL):\n",
            "   ID do Produto                    Nome do Produto  Quantidade Vendida  \\\n",
            "0            201         Impressora HP LaserJet Pro                  12   \n",
            "1            202                    SSD Samsung 1TB                  18   \n",
            "2            203              Tablet Apple iPad Pro                   8   \n",
            "3            204  Smartwatch Samsung Galaxy Watch 4                  14   \n",
            "4            205            Headset HyperX Cloud II                  20   \n",
            "\n",
            "   Preço Unitário  valor Total  \n",
            "0           250.0       3000.0  \n",
            "1           180.0       3240.0  \n",
            "2           900.0       7200.0  \n",
            "3           300.0       4200.0  \n",
            "4           120.0       2400.0  \n",
            "\n",
            "Dados Transformados da Filial 2 (do banco de dados SQL):\n",
            "   ID do Produto                    Nome do Produto  Quantidade Vendida  \\\n",
            "0            201         Impressora HP LaserJet Pro                  12   \n",
            "1            202                    SSD Samsung 1TB                  18   \n",
            "2            203              Tablet Apple iPad Pro                   8   \n",
            "3            204  Smartwatch Samsung Galaxy Watch 4                  14   \n",
            "4            205            Headset HyperX Cloud II                  20   \n",
            "\n",
            "   Preço Unitário  valor Total  \n",
            "0           250.0       3000.0  \n",
            "1           180.0       3240.0  \n",
            "2           900.0       7200.0  \n",
            "3           300.0       4200.0  \n",
            "4           120.0       2400.0  \n"
          ]
        }
      ]
    },
    {
      "cell_type": "code",
      "source": [
        "import sqlite3\n",
        "\n",
        "# Criar uma conexão com o banco de dados\n",
        "conn = sqlite3.connect('dados_transformados.db')\n",
        "\n",
        "# Crial um cursor para executar consultas SQL\n",
        "cursor = conn.cursor()\n",
        "\n",
        "# Executar uma consulta SQL para obter os dados da tabela vendas_filial1_transformadas\n",
        "cursor.execute('SELECT * FROM vendas_filial1_transformadas')\n",
        "\n",
        "# Obter os resultados da consulta\n",
        "dados_filial = cursor.fetchall()\n",
        "\n",
        "#Exibir os dados da filial 1\n",
        "print(\"Dados Transformados da Filial 1:\")\n",
        "for linha in dados_filial1:\n",
        "  print(linha)\n",
        "\n",
        "# Executar uma consulta SQL para obter os dados da tabela vendas_filial2_transformadas\n",
        "cursor.execute('SELECT * FROM vendas_filial1_transformadas')\n",
        "\n",
        "# Obter os resultados da consulta\n",
        "dados_filia2 = cursor.fetchall()\n",
        "\n",
        "#Exibir os dados da filial 2\n",
        "print(\"Dados Transformados da Filial 2:\")\n",
        "for linha in dados_filial2:\n",
        "  print(linha)\n",
        "\n",
        "# Fechar o cursor e a conexão com o banco de dados\n",
        "cursor.close()\n",
        "conn.close\n",
        "\n",
        "\n"
      ],
      "metadata": {
        "colab": {
          "base_uri": "https://localhost:8080/"
        },
        "id": "LYyl5LqphOp5",
        "outputId": "ed1cbe16-9ccf-40be-8e8e-15a1632a5b15"
      },
      "execution_count": 29,
      "outputs": [
        {
          "output_type": "stream",
          "name": "stdout",
          "text": [
            "Dados Transformados da Filial 1:\n",
            "ID do Produto\n",
            "Nome do Produto\n",
            "Quantidade Vendida\n",
            "Preço Unitário\n",
            "valor Total\n",
            "Dados Transformados da Filial 2:\n",
            "ID do Produto\n",
            "Nome do Produto\n",
            "Quantidade Vendida\n",
            "Preço Unitário\n",
            "valor Total\n"
          ]
        },
        {
          "output_type": "execute_result",
          "data": {
            "text/plain": [
              "<function Connection.close()>"
            ]
          },
          "metadata": {},
          "execution_count": 29
        }
      ]
    }
  ]
}